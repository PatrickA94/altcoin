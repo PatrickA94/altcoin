{
 "cells": [
  {
   "cell_type": "code",
   "execution_count": 8,
   "metadata": {
    "collapsed": true
   },
   "outputs": [],
   "source": [
    "import pandas as pd\n",
    "import glob\n",
    "\n",
    "# Access the files in the folder\n",
    "path=r'/home/patrick/Documents/Alt Coin Proj/altcoin'\n",
    "filenames = glob.glob(path + '/*.csv')\n",
    "dfs = []\n",
    "#Grab each frame and add a column for next days increase or decrease\n",
    "for filename in filenames:\n",
    "    frame = pd.read_csv(filename,index_col='date')\n",
    "    frame['up'] = frame['open']-frame['close'] \n",
    "    frame['up'][frame['up']>0] =1\n",
    "    frame['up'][frame['up']<=0] =0\n",
    "    frame['up'] = frame['up'].shift(-1)\n",
    "    dfs.append(frame)\n",
    "    \n",
    "name = lambda x: x.split('/')[-1].split('.')[0]\n",
    "    \n",
    "filenames = map(name,filenames)\n",
    "    \n",
    "large_frame = pd.concat(dfs, axis = 1 ,keys=filenames,names =['Alt'], )\n",
    "\n",
    "large_frame['date1'] = pd.to_datetime(large_frame.index,unit='s')\n",
    "large_frame.reset_index(inplace=True,drop=True)\n",
    "\n",
    "large_frame.set_index('date1',inplace=True)\n",
    "\n",
    "large_frame.to_pickle('/home/patrick/Documents/Alt Coin Proj/data/CombinedData.pkl')"
   ]
  },
  {
   "cell_type": "code",
   "execution_count": null,
   "metadata": {
    "collapsed": true
   },
   "outputs": [],
   "source": []
  }
 ],
 "metadata": {
  "kernelspec": {
   "display_name": "Python 2",
   "language": "python",
   "name": "python2"
  },
  "language_info": {
   "codemirror_mode": {
    "name": "ipython",
    "version": 2
   },
   "file_extension": ".py",
   "mimetype": "text/x-python",
   "name": "python",
   "nbconvert_exporter": "python",
   "pygments_lexer": "ipython2",
   "version": "2.7.13"
  }
 },
 "nbformat": 4,
 "nbformat_minor": 2
}
