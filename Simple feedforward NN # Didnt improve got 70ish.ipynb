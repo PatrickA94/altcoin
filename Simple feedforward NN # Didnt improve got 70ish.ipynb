{
 "cells": [
  {
   "cell_type": "code",
   "execution_count": 1,
   "metadata": {
    "collapsed": true
   },
   "outputs": [],
   "source": [
    "import tensorflow as tf\n",
    "import numpy as np\n",
    "import pandas as pd\n"
   ]
  },
  {
   "cell_type": "code",
   "execution_count": 2,
   "metadata": {
    "collapsed": true
   },
   "outputs": [],
   "source": [
    "\n",
    "def init_weights(shape):\n",
    "    weights = tf.random_normal(shape,stddev=0.1)\n",
    "    return tf.Variable(weights)"
   ]
  },
  {
   "cell_type": "code",
   "execution_count": 3,
   "metadata": {
    "collapsed": true
   },
   "outputs": [],
   "source": [
    "def forwardprop(X, w_1, w_2):\n",
    "    h = tf.nn.sigmoid(tf.matmul(X,w_1))\n",
    "    yhat = tf.matmul(h,w_2)\n",
    "    return yhat"
   ]
  },
  {
   "cell_type": "code",
   "execution_count": 4,
   "metadata": {
    "collapsed": true
   },
   "outputs": [],
   "source": [
    "def getdata():\n",
    "    df = pd.read_pickle('/home/patrick/Documents/Alt Coin Proj/data/newfeat.pkl')\n",
    "    df = df['DOGE']\n",
    "    data = df.drop('up',axis=1)\n",
    "    target = df['up']\n",
    "    data = data.as_matrix()\n",
    "    target = np.asarray(target, dtype=np.int8)\n",
    "    \n",
    "    \n",
    "    N,M = data.shape\n",
    "    \n",
    "    all_X = np.ones((N,M+1))\n",
    "    all_X[:,1:] = data\n",
    "    \n",
    "    num_labels = len(np.unique(target))\n",
    "    all_Y = np.eye(num_labels,dtype=np.int8)[target]\n",
    "    \n",
    "    trainx = all_X[:5000]\n",
    "    testx = all_X[5001:]\n",
    "    \n",
    "    trainy = all_Y[:5000]\n",
    "    testy = all_Y[5001:]\n",
    "    \n",
    "    \n",
    "    \n",
    "    return trainx,testx,trainy,testy\n",
    "    \n",
    "    "
   ]
  },
  {
   "cell_type": "code",
   "execution_count": null,
   "metadata": {},
   "outputs": [
    {
     "name": "stdout",
     "output_type": "stream",
     "text": [
      "Epoch = 1, train accuracy = 67.020000000%, test accuracy = 69.804489500%\n",
      "Epoch = 2, train accuracy = 67.020000000%, test accuracy = 69.804489500%\n",
      "Epoch = 3, train accuracy = 67.020000000%, test accuracy = 69.804489500%\n",
      "Epoch = 4, train accuracy = 67.020000000%, test accuracy = 69.804489500%\n",
      "Epoch = 5, train accuracy = 67.020000000%, test accuracy = 69.804489500%\n",
      "Epoch = 6, train accuracy = 67.020000000%, test accuracy = 69.804489500%\n",
      "Epoch = 7, train accuracy = 67.020000000%, test accuracy = 69.804489500%\n",
      "Epoch = 8, train accuracy = 67.020000000%, test accuracy = 69.804489500%\n",
      "Epoch = 9, train accuracy = 67.020000000%, test accuracy = 69.804489500%\n",
      "Epoch = 10, train accuracy = 67.020000000%, test accuracy = 69.804489500%\n",
      "Epoch = 11, train accuracy = 67.020000000%, test accuracy = 69.804489500%\n",
      "Epoch = 12, train accuracy = 67.020000000%, test accuracy = 69.804489500%\n",
      "Epoch = 13, train accuracy = 67.020000000%, test accuracy = 69.804489500%\n",
      "Epoch = 14, train accuracy = 67.020000000%, test accuracy = 69.804489500%\n",
      "Epoch = 15, train accuracy = 67.020000000%, test accuracy = 69.804489500%\n",
      "Epoch = 16, train accuracy = 67.020000000%, test accuracy = 69.804489500%\n",
      "Epoch = 17, train accuracy = 67.020000000%, test accuracy = 69.804489500%\n",
      "Epoch = 18, train accuracy = 67.020000000%, test accuracy = 69.804489500%\n",
      "Epoch = 19, train accuracy = 67.020000000%, test accuracy = 69.804489500%\n",
      "Epoch = 20, train accuracy = 67.020000000%, test accuracy = 69.804489500%\n",
      "Epoch = 21, train accuracy = 67.020000000%, test accuracy = 69.804489500%\n",
      "Epoch = 22, train accuracy = 67.020000000%, test accuracy = 69.804489500%\n",
      "Epoch = 23, train accuracy = 67.020000000%, test accuracy = 69.804489500%\n",
      "Epoch = 24, train accuracy = 67.020000000%, test accuracy = 69.804489500%\n",
      "Epoch = 25, train accuracy = 67.020000000%, test accuracy = 69.804489500%\n",
      "Epoch = 26, train accuracy = 67.020000000%, test accuracy = 69.804489500%\n",
      "Epoch = 27, train accuracy = 67.020000000%, test accuracy = 69.804489500%\n",
      "Epoch = 28, train accuracy = 67.020000000%, test accuracy = 69.804489500%\n",
      "Epoch = 29, train accuracy = 67.020000000%, test accuracy = 69.804489500%\n",
      "Epoch = 30, train accuracy = 67.020000000%, test accuracy = 69.804489500%\n",
      "Epoch = 31, train accuracy = 67.020000000%, test accuracy = 69.804489500%\n",
      "Epoch = 32, train accuracy = 67.020000000%, test accuracy = 69.804489500%\n",
      "Epoch = 33, train accuracy = 67.020000000%, test accuracy = 69.804489500%\n",
      "Epoch = 34, train accuracy = 67.020000000%, test accuracy = 69.804489500%\n"
     ]
    }
   ],
   "source": [
    "def main():\n",
    "    train_X, test_X, train_y, test_y = getdata()\n",
    "\n",
    "    # Layer's sizes\n",
    "    x_size = train_X.shape[1]   # Number of input nodes: 4 features and 1 bias\n",
    "    h_size = 250                # Number of hidden nodes\n",
    "    y_size = train_y.shape[1]   # Number of outcomes (3 iris flowers)\n",
    "\n",
    "    # Symbols\n",
    "    X = tf.placeholder(\"float\", shape=[None, x_size])\n",
    "    y = tf.placeholder(\"float\", shape=[None, y_size])\n",
    "\n",
    "    # Weight initializations\n",
    "    w_1 = init_weights((x_size, h_size))\n",
    "    w_2 = init_weights((h_size, y_size))\n",
    "\n",
    "    # Forward propagation\n",
    "    yhat    = forwardprop(X, w_1, w_2)\n",
    "    predict = tf.argmax(yhat, axis=1)\n",
    "\n",
    "    # Backward propagation\n",
    "    cost    = tf.reduce_mean(tf.nn.softmax_cross_entropy_with_logits(labels=y, logits=yhat))\n",
    "    updates = tf.train.AdamOptimizer(0.01).minimize(cost)\n",
    "\n",
    "    # Run SGD\n",
    "    sess = tf.Session()\n",
    "    init = tf.global_variables_initializer()\n",
    "    sess.run(init)\n",
    "\n",
    "    for epoch in range(100):\n",
    "        # Train with each example\n",
    "        for i in range(len(train_X)):\n",
    "            sess.run(updates, feed_dict={X: train_X[i: i + 1], y: train_y[i: i + 1]})\n",
    "\n",
    "        train_accuracy = np.mean(np.argmax(train_y, axis=1) ==\n",
    "                                 sess.run(predict, feed_dict={X: train_X, y: train_y}))\n",
    "        test_accuracy  = np.mean(np.argmax(test_y, axis=1) ==\n",
    "                                 sess.run(predict, feed_dict={X: test_X, y: test_y}))\n",
    "\n",
    "        print(\"Epoch = %d, train accuracy = %.9f%%, test accuracy = %.9f%%\"\n",
    "              % (epoch + 1, 100. * train_accuracy, 100. * test_accuracy))\n",
    "\n",
    "    sess.close()\n",
    "main()"
   ]
  },
  {
   "cell_type": "code",
   "execution_count": null,
   "metadata": {
    "collapsed": true
   },
   "outputs": [],
   "source": []
  },
  {
   "cell_type": "code",
   "execution_count": null,
   "metadata": {
    "collapsed": true
   },
   "outputs": [],
   "source": []
  }
 ],
 "metadata": {
  "kernelspec": {
   "display_name": "Python 2",
   "language": "python",
   "name": "python2"
  },
  "language_info": {
   "codemirror_mode": {
    "name": "ipython",
    "version": 2
   },
   "file_extension": ".py",
   "mimetype": "text/x-python",
   "name": "python",
   "nbconvert_exporter": "python",
   "pygments_lexer": "ipython2",
   "version": "2.7.13"
  }
 },
 "nbformat": 4,
 "nbformat_minor": 2
}
