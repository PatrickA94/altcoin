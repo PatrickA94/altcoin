{
 "cells": [
  {
   "cell_type": "markdown",
   "metadata": {},
   "source": [
    "# Merge to single Dataframe"
   ]
  },
  {
   "cell_type": "code",
   "execution_count": 1,
   "metadata": {
    "collapsed": true
   },
   "outputs": [],
   "source": [
    "import pandas as pd\n",
    "import seaborn as sns\n",
    "import glob\n",
    "%matplotlib inline"
   ]
  },
  {
   "cell_type": "markdown",
   "metadata": {},
   "source": [
    "## TODO\n",
    "### Check for missing data\n",
    "### Write function that evaluates each model for each currency"
   ]
  },
  {
   "cell_type": "code",
   "execution_count": 2,
   "metadata": {},
   "outputs": [],
   "source": [
    "df = pd.read_pickle('/home/patrick/Documents/Alt Coin Proj/data/newfeat.pkl')\n",
    "df = df['DOGE']"
   ]
  },
  {
   "cell_type": "code",
   "execution_count": 3,
   "metadata": {},
   "outputs": [
    {
     "data": {
      "text/plain": [
       "<matplotlib.axes._subplots.AxesSubplot at 0x7f50bf039b50>"
      ]
     },
     "execution_count": 3,
     "metadata": {},
     "output_type": "execute_result"
    },
    {
     "data": {
      "image/png": "[encoded data removed]",
      "text/plain": [
       "<matplotlib.figure.Figure at 0x7f50bf04a690>"
      ]
     },
     "metadata": {},
     "output_type": "display_data"
    }
   ],
   "source": [
    "df = df.drop(['high','low', 'open', 'close'],axis=1)\n",
    "sns.heatmap(df.corr())"
   ]
  },
  {
   "cell_type": "code",
   "execution_count": null,
   "metadata": {
    "collapsed": true
   },
   "outputs": [],
   "source": []
  },
  {
   "cell_type": "code",
   "execution_count": null,
   "metadata": {
    "collapsed": true
   },
   "outputs": [],
   "source": []
  },
  {
   "cell_type": "code",
   "execution_count": null,
   "metadata": {
    "collapsed": true
   },
   "outputs": [],
   "source": []
  },
  {
   "cell_type": "code",
   "execution_count": null,
   "metadata": {
    "collapsed": true
   },
   "outputs": [],
   "source": []
  },
  {
   "cell_type": "code",
   "execution_count": null,
   "metadata": {
    "collapsed": true
   },
   "outputs": [],
   "source": []
  },
  {
   "cell_type": "code",
   "execution_count": 4,
   "metadata": {
    "collapsed": true
   },
   "outputs": [],
   "source": [
    "from sklearn.linear_model import LogisticRegression\n",
    "from sklearn.metrics import classification_report,confusion_matrix\n",
    "from sklearn.svm import SVC\n",
    "from sklearn.tree import DecisionTreeClassifier"
   ]
  },
  {
   "cell_type": "code",
   "execution_count": 5,
   "metadata": {},
   "outputs": [
    {
     "name": "stdout",
     "output_type": "stream",
     "text": [
      "LTC  Logistic Regression\n",
      "             precision    recall  f1-score   support\n",
      "\n",
      "        0.0       0.60      1.00      0.75       255\n",
      "        1.0       0.00      0.00      0.00       168\n",
      "\n",
      "avg / total       0.36      0.60      0.45       423\n",
      "\n",
      "[[255   0]\n",
      " [168   0]]\n"
     ]
    },
    {
     "name": "stderr",
     "output_type": "stream",
     "text": [
      "/home/patrick/anaconda2/lib/python2.7/site-packages/sklearn/metrics/classification.py:1113: UndefinedMetricWarning: Precision and F-score are ill-defined and being set to 0.0 in labels with no predicted samples.\n",
      "  'precision', 'predicted', average, warn_for)\n"
     ]
    }
   ],
   "source": [
    "\n",
    "crypt = df[['up','weightedAverage', 'roc','cci','rsi']]\n",
    "trainX = crypt[crypt['up'].first_valid_index():'2017-05-30 00:00:00'].drop('up',axis=1)\n",
    "trainY = crypt[crypt['up'].first_valid_index():'2017-05-30 00:00:00']['up']\n",
    "testX = crypt['2017-06-01 04:00:00':crypt['up'].last_valid_index()].drop('up',axis=1)\n",
    "testY = crypt['2017-06-01 04:00:00':crypt['up'].last_valid_index()]['up']\n",
    "\n",
    "print  'LTC  Logistic Regression'\n",
    "\n",
    "logmodel = LogisticRegression()\n",
    "logmodel.fit(trainX,trainY)\n",
    "pred = logmodel.predict(testX)\n",
    "print classification_report(testY,pred)\n",
    "print confusion_matrix(testY,pred)\n",
    "\n"
   ]
  },
  {
   "cell_type": "code",
   "execution_count": null,
   "metadata": {},
   "outputs": [
    {
     "name": "stdout",
     "output_type": "stream",
     "text": [
      "LTC SVC\n"
     ]
    }
   ],
   "source": [
    "\n",
    "#crypt = df\n",
    "trainX = crypt[crypt['up'].first_valid_index():'2017-01-01 00:00:00'].drop('up',axis=1)\n",
    "trainY = crypt[crypt['up'].first_valid_index():'2017-01-01 00:00:00']['up']\n",
    "testX = crypt['2017-01-01 04:00:00':crypt['up'].last_valid_index()].drop('up',axis=1)\n",
    "testY = crypt['2017-01-01 04:00:00':crypt['up'].last_valid_index()]['up']\n",
    "\n",
    "print 'LTC SVC'\n",
    "\n",
    "\n",
    "\n",
    "param_grid = {'C': [0.1,1, 10, 100, 1000], 'gamma': [1,0.1,0.01,0.001,0.0001], 'kernel': ['rbf']}\n",
    "from sklearn.model_selection import GridSearchCV\n",
    "grid = GridSearchCV(SVC(),param_grid,refit=True,verbose=0)\n",
    "grid.fit(trainX,trainY)\n",
    "grid.best_estimator_\n",
    "grid_predictions = grid.predict(testX)\n",
    "print classification_report(testY,grid_predictions)\n",
    "print confusion_matrix(testY,grid_predictions)"
   ]
  },
  {
   "cell_type": "code",
   "execution_count": 6,
   "metadata": {},
   "outputs": [
    {
     "name": "stdout",
     "output_type": "stream",
     "text": [
      "LTC Tree\n",
      "             precision    recall  f1-score   support\n",
      "\n",
      "        0.0       0.61      0.26      0.36       373\n",
      "        1.0       0.39      0.74      0.51       236\n",
      "\n",
      "avg / total       0.52      0.44      0.42       609\n",
      "\n",
      "[[ 96 277]\n",
      " [ 61 175]]\n"
     ]
    }
   ],
   "source": [
    "\n",
    "crypt = df\n",
    "trainX = crypt[crypt['up'].first_valid_index():'2017-01-01 00:00:00'].drop('up',axis=1)\n",
    "trainY = crypt[crypt['up'].first_valid_index():'2017-01-01 00:00:00']['up']\n",
    "testX = crypt['2017-05-01 04:00:00':crypt['up'].last_valid_index()].drop('up',axis=1)\n",
    "testY = crypt['2017-05-01 04:00:00':crypt['up'].last_valid_index()]['up']\n",
    "\n",
    "print  'LTC Tree'\n",
    "\n",
    "model = DecisionTreeClassifier()\n",
    "model.fit(trainX,trainY)\n",
    "pred = model.predict(testX)\n",
    "print classification_report(testY,pred)\n",
    "print confusion_matrix(testY,pred)"
   ]
  },
  {
   "cell_type": "code",
   "execution_count": null,
   "metadata": {
    "collapsed": true
   },
   "outputs": [],
   "source": []
  }
 ],
 "metadata": {
  "kernelspec": {
   "display_name": "Python 2",
   "language": "python",
   "name": "python2"
  },
  "language_info": {
   "codemirror_mode": {
    "name": "ipython",
    "version": 2
   },
   "file_extension": ".py",
   "mimetype": "text/x-python",
   "name": "python",
   "nbconvert_exporter": "python",
   "pygments_lexer": "ipython2",
   "version": "2.7.13"
  }
 },
 "nbformat": 4,
 "nbformat_minor": 2
}
