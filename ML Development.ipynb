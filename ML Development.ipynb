{
 "cells": [
  {
   "cell_type": "markdown",
   "metadata": {},
   "source": [
    "# Merge to single Dataframe"
   ]
  },
  {
   "cell_type": "code",
   "execution_count": 44,
   "metadata": {
    "collapsed": true
   },
   "outputs": [],
   "source": [
    "import pandas as pd\n",
    "import seaborn as sns\n",
    "import glob\n",
    "%matplotlib inline"
   ]
  },
  {
   "cell_type": "markdown",
   "metadata": {},
   "source": [
    "## TODO\n",
    "### Check for missing data\n",
    "### Write function that evaluates each model for each currency"
   ]
  },
  {
   "cell_type": "code",
   "execution_count": 67,
   "metadata": {},
   "outputs": [],
   "source": [
    "df = pd.read_pickle('/home/patrick/Documents/Alt Coin Proj/data/doge.pkl')"
   ]
  },
  {
   "cell_type": "code",
   "execution_count": 68,
   "metadata": {},
   "outputs": [
    {
     "data": {
      "text/plain": [
       "<matplotlib.axes._subplots.AxesSubplot at 0x7f6d3fcf6290>"
      ]
     },
     "execution_count": 68,
     "metadata": {},
     "output_type": "execute_result"
    },
    {
     "data": {
      "image/png": "[encoded data removed]",
      "text/plain": [
       "<matplotlib.figure.Figure at 0x7f6d3fb84450>"
      ]
     },
     "metadata": {},
     "output_type": "display_data"
    }
   ],
   "source": [
    "df = df.drop(['high','low', 'open', 'close'],axis=1)\n",
    "sns.heatmap(df.corr())"
   ]
  },
  {
   "cell_type": "code",
   "execution_count": null,
   "metadata": {
    "collapsed": true
   },
   "outputs": [],
   "source": []
  },
  {
   "cell_type": "code",
   "execution_count": null,
   "metadata": {
    "collapsed": true
   },
   "outputs": [],
   "source": []
  },
  {
   "cell_type": "code",
   "execution_count": null,
   "metadata": {
    "collapsed": true
   },
   "outputs": [],
   "source": []
  },
  {
   "cell_type": "code",
   "execution_count": null,
   "metadata": {
    "collapsed": true
   },
   "outputs": [],
   "source": []
  },
  {
   "cell_type": "code",
   "execution_count": null,
   "metadata": {
    "collapsed": true
   },
   "outputs": [],
   "source": []
  },
  {
   "cell_type": "code",
   "execution_count": 20,
   "metadata": {
    "collapsed": true
   },
   "outputs": [],
   "source": [
    "from sklearn.linear_model import LogisticRegression\n",
    "from sklearn.metrics import classification_report,confusion_matrix\n",
    "from sklearn.svm import SVC\n",
    "from sklearn.tree import DecisionTreeClassifier"
   ]
  },
  {
   "cell_type": "code",
   "execution_count": 69,
   "metadata": {},
   "outputs": [
    {
     "name": "stdout",
     "output_type": "stream",
     "text": [
      "LTC  Logistic Regression\n",
      "             precision    recall  f1-score   support\n",
      "\n",
      "        0.0       0.71      0.64      0.67       834\n",
      "        1.0       0.40      0.47      0.43       416\n",
      "\n",
      "avg / total       0.60      0.58      0.59      1250\n",
      "\n",
      "[[537 297]\n",
      " [222 194]]\n"
     ]
    }
   ],
   "source": [
    "\n",
    "crypt = df\n",
    "trainX = crypt[crypt['up'].first_valid_index():'2017-01-01 00:00:00'].drop('up',axis=1)\n",
    "trainY = crypt[crypt['up'].first_valid_index():'2017-01-01 00:00:00']['up']\n",
    "testX = crypt['2017-01-01 04:00:00':crypt['up'].last_valid_index()].drop('up',axis=1)\n",
    "testY = crypt['2017-01-01 04:00:00':crypt['up'].last_valid_index()]['up']\n",
    "\n",
    "print  'LTC  Logistic Regression'\n",
    "\n",
    "logmodel = LogisticRegression()\n",
    "logmodel.fit(trainX,trainY)\n",
    "pred = logmodel.predict(testX)\n",
    "print classification_report(testY,pred)\n",
    "print confusion_matrix(testY,pred)\n",
    "\n"
   ]
  },
  {
   "cell_type": "code",
   "execution_count": 74,
   "metadata": {},
   "outputs": [
    {
     "name": "stdout",
     "output_type": "stream",
     "text": [
      "LTC SVC\n",
      "             precision    recall  f1-score   support\n",
      "\n",
      "        0.0       0.67      1.00      0.80       834\n",
      "        1.0       0.00      0.00      0.00       416\n",
      "\n",
      "avg / total       0.45      0.67      0.53      1250\n",
      "\n",
      "[[834   0]\n",
      " [416   0]]\n"
     ]
    }
   ],
   "source": [
    "\n",
    "crypt = df\n",
    "trainX = crypt[crypt['up'].first_valid_index():'2017-01-01 00:00:00'].drop('up',axis=1)\n",
    "trainY = crypt[crypt['up'].first_valid_index():'2017-01-01 00:00:00']['up']\n",
    "testX = crypt['2017-01-01 04:00:00':crypt['up'].last_valid_index()].drop('up',axis=1)\n",
    "testY = crypt['2017-01-01 04:00:00':crypt['up'].last_valid_index()]['up']\n",
    "\n",
    "print 'LTC SVC'\n",
    "\n",
    "\n",
    "\n",
    "param_grid = {'C': [0.1,1, 10, 100, 1000], 'gamma': [1,0.1,0.01,0.001,0.0001], 'kernel': ['rbf']}\n",
    "from sklearn.model_selection import GridSearchCV\n",
    "grid = GridSearchCV(SVC(),param_grid,refit=True,verbose=0)\n",
    "grid.fit(trainX,trainY)\n",
    "grid.best_estimator_\n",
    "grid_predictions = grid.predict(testX)\n",
    "print classification_report(testY,grid_predictions)\n",
    "print confusion_matrix(testY,grid_predictions)"
   ]
  },
  {
   "cell_type": "code",
   "execution_count": 71,
   "metadata": {},
   "outputs": [
    {
     "name": "stdout",
     "output_type": "stream",
     "text": [
      "LTC Tree\n",
      "             precision    recall  f1-score   support\n",
      "\n",
      "        0.0       0.67      0.55      0.60       834\n",
      "        1.0       0.33      0.44      0.38       416\n",
      "\n",
      "avg / total       0.55      0.52      0.53      1250\n",
      "\n",
      "[[462 372]\n",
      " [232 184]]\n"
     ]
    }
   ],
   "source": [
    "\n",
    "crypt = df\n",
    "trainX = crypt[crypt['up'].first_valid_index():'2017-01-01 00:00:00'].drop('up',axis=1)\n",
    "trainY = crypt[crypt['up'].first_valid_index():'2017-01-01 00:00:00']['up']\n",
    "testX = crypt['2017-01-01 04:00:00':crypt['up'].last_valid_index()].drop('up',axis=1)\n",
    "testY = crypt['2017-01-01 04:00:00':crypt['up'].last_valid_index()]['up']\n",
    "\n",
    "print  'LTC Tree'\n",
    "\n",
    "model = DecisionTreeClassifier()\n",
    "model.fit(trainX,trainY)\n",
    "pred = model.predict(testX)\n",
    "print classification_report(testY,pred)\n",
    "print confusion_matrix(testY,pred)"
   ]
  },
  {
   "cell_type": "code",
   "execution_count": null,
   "metadata": {
    "collapsed": true
   },
   "outputs": [],
   "source": []
  }
 ],
 "metadata": {
  "kernelspec": {
   "display_name": "Python 2",
   "language": "python",
   "name": "python2"
  },
  "language_info": {
   "codemirror_mode": {
    "name": "ipython",
    "version": 2
   },
   "file_extension": ".py",
   "mimetype": "text/x-python",
   "name": "python",
   "nbconvert_exporter": "python",
   "pygments_lexer": "ipython2",
   "version": "2.7.13"
  }
 },
 "nbformat": 4,
 "nbformat_minor": 2
}
