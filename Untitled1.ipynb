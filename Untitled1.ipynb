{
 "cells": [
  {
   "cell_type": "code",
   "execution_count": 1,
   "metadata": {
    "collapsed": true
   },
   "outputs": [],
   "source": [
    "import tensorflow as tf\n",
    "import numpy as np"
   ]
  },
  {
   "cell_type": "code",
   "execution_count": 2,
   "metadata": {
    "collapsed": true
   },
   "outputs": [],
   "source": [
    "def getdata():\n",
    "    import pandas as pd\n",
    "    df = pd.read_pickle('/home/patrick/Documents/Alt Coin Proj/data/newfeat.pkl')\n",
    "    df = df['LTC']\n",
    "    length = len(df)\n",
    "    data = df.drop('up',axis=1)\n",
    "    target = df['up']\n",
    "    data = data.as_matrix()\n",
    "    target = np.asarray(target, dtype=np.int8)\n",
    "    \n",
    "    \n",
    "    N,M = data.shape\n",
    "    \n",
    "    all_X = np.ones((N,M+1))\n",
    "    all_X[:,1:] = data\n",
    "    \n",
    "    num_labels = len(np.unique(target))\n",
    "    all_Y = np.eye(num_labels,dtype=np.int8)[target]\n",
    "    \n",
    "    trainx = all_X[:5000]\n",
    "    testx = all_X[5001:]\n",
    "    \n",
    "    trainy = all_Y[:5000]\n",
    "    testy = all_Y[5001:]\n",
    "    \n",
    "    \n",
    "    return trainx,testx,trainy,testy,length"
   ]
  },
  {
   "cell_type": "code",
   "execution_count": 3,
   "metadata": {},
   "outputs": [],
   "source": [
    "#parameters\n",
    "\n",
    "learning_rate = 0.1\n",
    "training_epochs = 6000\n",
    "batch_size = 42\n",
    "display_step=50\n",
    "\n",
    "#network pramenters\n",
    "\n",
    "n_hidden_1 = 18\n",
    "n_hidden_2 = 10\n",
    "n_inputs = 25\n",
    "n_classes = 2"
   ]
  },
  {
   "cell_type": "code",
   "execution_count": 4,
   "metadata": {},
   "outputs": [],
   "source": [
    "trainx,testx,trainy,testy,length = getdata()\n",
    "\n",
    "\n",
    "\n"
   ]
  },
  {
   "cell_type": "code",
   "execution_count": 5,
   "metadata": {},
   "outputs": [],
   "source": [
    "x = tf.placeholder(\"float\", [None, n_inputs])\n",
    "y = tf.placeholder(\"float\",[None,n_classes]) \n",
    "\n"
   ]
  },
  {
   "cell_type": "code",
   "execution_count": 6,
   "metadata": {
    "collapsed": true
   },
   "outputs": [],
   "source": [
    "def multilayer_preceptron(x,weighrs,biases):\n",
    "    layer_1 = tf.add(tf.matmul(x,weights['h1']), biases['b1'])\n",
    "    layer_1 = tf.nn.sigmoid(layer_1)\n",
    "    \n",
    "    layer_2 = tf.add(tf.matmul(layer_1,weights['h2']), biases['b2'])\n",
    "    layer_2 = tf.nn.sigmoid(layer_2)\n",
    "    \n",
    "    out_layer = tf.matmul(layer_2, weights['out'])+ biases['out']\n",
    "    return out_layer"
   ]
  },
  {
   "cell_type": "code",
   "execution_count": 7,
   "metadata": {},
   "outputs": [],
   "source": [
    "weights = {\n",
    "    'h1' : tf.Variable(tf.random_normal([n_inputs,n_hidden_1])),\n",
    "    'h2' : tf.Variable(tf.random_normal([n_hidden_1,n_hidden_2])),\n",
    "    'out' : tf.Variable(tf.random_normal([n_hidden_2,n_classes]))\n",
    "}\n",
    "\n",
    "biases = {\n",
    "    'b1' : tf.Variable(tf.random_normal([n_hidden_1])),\n",
    "    'b2' : tf.Variable(tf.random_normal([n_hidden_2])),\n",
    "    'out' : tf.Variable(tf.random_normal([n_classes]))\n",
    "}"
   ]
  },
  {
   "cell_type": "code",
   "execution_count": 8,
   "metadata": {},
   "outputs": [],
   "source": [
    "pred = multilayer_preceptron(x,weights, biases)"
   ]
  },
  {
   "cell_type": "code",
   "execution_count": 9,
   "metadata": {},
   "outputs": [],
   "source": [
    "#loss and optimizer\n",
    "cost = tf.reduce_mean(tf.nn.softmax_cross_entropy_with_logits(logits=pred,labels=y))\n",
    "optimizer = tf.train.AdadeltaOptimizer(learning_rate=learning_rate).minimize(cost)"
   ]
  },
  {
   "cell_type": "code",
   "execution_count": null,
   "metadata": {
    "collapsed": true
   },
   "outputs": [],
   "source": [
    "init = tf.global_variables_initializer()"
   ]
  },
  {
   "cell_type": "code",
   "execution_count": null,
   "metadata": {},
   "outputs": [
    {
     "name": "stdout",
     "output_type": "stream",
     "text": [
      "('Epoch:', '0001', 'cost=', '0.797947838')\n",
      "('Epoch:', '0051', 'cost=', '0.756816847')\n",
      "('Epoch:', '0101', 'cost=', '0.657527897')\n",
      "('Epoch:', '0151', 'cost=', '0.678352806')\n",
      "('Epoch:', '0201', 'cost=', '0.678494461')\n",
      "('Epoch:', '0251', 'cost=', '0.664624452')\n",
      "('Epoch:', '0301', 'cost=', '0.673498995')\n",
      "('Epoch:', '0351', 'cost=', '0.706706100')\n",
      "('Epoch:', '0401', 'cost=', '0.605342205')\n",
      "('Epoch:', '0451', 'cost=', '0.722683563')\n",
      "('Epoch:', '0501', 'cost=', '0.691393277')\n",
      "('Epoch:', '0551', 'cost=', '0.656656123')\n",
      "('Epoch:', '0601', 'cost=', '0.694096430')\n",
      "('Epoch:', '0651', 'cost=', '0.678022548')\n",
      "('Epoch:', '0701', 'cost=', '0.723851340')\n",
      "('Epoch:', '0751', 'cost=', '0.631844764')\n",
      "('Epoch:', '0801', 'cost=', '0.688224251')\n",
      "('Epoch:', '0851', 'cost=', '0.704109683')\n",
      "('Epoch:', '0901', 'cost=', '0.663527744')\n",
      "('Epoch:', '0951', 'cost=', '0.686975705')\n",
      "('Epoch:', '1001', 'cost=', '0.648251679')\n",
      "('Epoch:', '1051', 'cost=', '0.675603945')\n",
      "('Epoch:', '1101', 'cost=', '0.671400956')\n",
      "('Epoch:', '1151', 'cost=', '0.709358249')\n"
     ]
    }
   ],
   "source": [
    "\n",
    "imageBatch, labelBatch = tf.train.batch([trainx,trainy],enqueue_many=True,\n",
    "                                        batch_size=batch_size, capacity=8000)\n",
    "\n",
    "\n",
    "\n",
    "\n",
    "with tf.Session() as sess:\n",
    "    sess.run(init)\n",
    "    coord = tf.train.Coordinator()\n",
    "    threads = tf.train.start_queue_runners(sess=sess,coord=coord)\n",
    "    \n",
    "    #training is done HERE\n",
    "    for epoch in range(training_epochs):\n",
    "        batch_xs, batch_ys = sess.run([imageBatch,labelBatch])\n",
    "        avg_cost = 0.\n",
    "        total_batches = int(length/batch_size)\n",
    "        #loop throough batches\n",
    "        for i in range(total_batches):\n",
    "            _, c = sess.run([optimizer,cost],feed_dict={x: batch_xs,\n",
    "                                                      y: batch_ys})\n",
    "            #compute avg loss\n",
    "            avg_cost += c/total_batches\n",
    "            \n",
    "        #display the logs\n",
    "        if epoch% display_step == 0:\n",
    "            print('Epoch:', '%04d'%(epoch+1), 'cost=', '{:.9f}'.format(avg_cost))\n",
    "    print('Optimization Complete!')\n",
    "    \n",
    "    #Test Model \n",
    "    correct_prediction = tf.equal(tf.argmax(pred,1),tf.argmax(y,1))\n",
    "    #calculate Accurarcy\n",
    "    accuracy = tf.reduce_mean(tf.cast(correct_prediction, \"float\"))\n",
    "    print(\"Accuracy:\", accuracy.eval({x: testx, y: testy}))"
   ]
  },
  {
   "cell_type": "code",
   "execution_count": null,
   "metadata": {
    "collapsed": true
   },
   "outputs": [],
   "source": []
  }
 ],
 "metadata": {
  "kernelspec": {
   "display_name": "Python 2",
   "language": "python",
   "name": "python2"
  },
  "language_info": {
   "codemirror_mode": {
    "name": "ipython",
    "version": 2
   },
   "file_extension": ".py",
   "mimetype": "text/x-python",
   "name": "python",
   "nbconvert_exporter": "python",
   "pygments_lexer": "ipython2",
   "version": "2.7.13"
  }
 },
 "nbformat": 4,
 "nbformat_minor": 2
}
