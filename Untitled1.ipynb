{
 "cells": [
  {
   "cell_type": "code",
   "execution_count": 2,
   "metadata": {
    "collapsed": true
   },
   "outputs": [],
   "source": [
    "import tensorflow as tf\n",
    "import numpy as np"
   ]
  },
  {
   "cell_type": "code",
   "execution_count": 3,
   "metadata": {
    "collapsed": true
   },
   "outputs": [],
   "source": [
    "def getdata():\n",
    "    df = pd.read_pickle('/home/patrick/Documents/Alt Coin Proj/data/newfeat.pkl')\n",
    "    df = df['DOGE']\n",
    "    data = df.drop('up',axis=1)\n",
    "    target = df['up']\n",
    "    data = data.as_matrix()\n",
    "    target = np.asarray(target, dtype=np.int8)\n",
    "    \n",
    "    \n",
    "    N,M = data.shape\n",
    "    \n",
    "    all_X = np.ones((N,M+1))\n",
    "    all_X[:,1:] = data\n",
    "    \n",
    "    num_labels = len(np.unique(target))\n",
    "    all_Y = np.eye(num_labels,dtype=np.int8)[target]\n",
    "    \n",
    "    trainx = all_X[:5000]\n",
    "    testx = all_X[5001:]\n",
    "    \n",
    "    trainy = all_Y[:5000]\n",
    "    testy = all_Y[5001:]\n",
    "    \n",
    "    \n",
    "    \n",
    "    return trainx,testx,trainy,testy"
   ]
  },
  {
   "cell_type": "code",
   "execution_count": null,
   "metadata": {
    "collapsed": true
   },
   "outputs": [],
   "source": []
  }
 ],
 "metadata": {
  "kernelspec": {
   "display_name": "Python 2",
   "language": "python",
   "name": "python2"
  },
  "language_info": {
   "codemirror_mode": {
    "name": "ipython",
    "version": 2
   },
   "file_extension": ".py",
   "mimetype": "text/x-python",
   "name": "python",
   "nbconvert_exporter": "python",
   "pygments_lexer": "ipython2",
   "version": "2.7.13"
  }
 },
 "nbformat": 4,
 "nbformat_minor": 2
}
