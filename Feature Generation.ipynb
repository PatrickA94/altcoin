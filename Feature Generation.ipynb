{
 "cells": [
  {
   "cell_type": "code",
   "execution_count": 6,
   "metadata": {
    "collapsed": true
   },
   "outputs": [],
   "source": [
    "import pandas as pd\n",
    "import numpy as np\n",
    "import talib\n",
    "from talib import MA_Type\n",
    "import datetime\n",
    "import glob"
   ]
  },
  {
   "cell_type": "code",
   "execution_count": 7,
   "metadata": {
    "collapsed": true
   },
   "outputs": [],
   "source": [
    "df = pd.read_pickle('/home/patrick/Documents/Alt Coin Proj/data/CombinedData.pkl')\n",
    "df = df.drop(['BTC','USDT','PASC','GNT','GNO'],axis=1)"
   ]
  },
  {
   "cell_type": "code",
   "execution_count": 8,
   "metadata": {
    "collapsed": true
   },
   "outputs": [],
   "source": [
    "colarr = []\n",
    "for col in df.columns.unique():\n",
    "    colarr.append(col[0])\n",
    "colarr = pd.Series(colarr)\n",
    "colarr = colarr.unique()"
   ]
  },
  {
   "cell_type": "code",
   "execution_count": 9,
   "metadata": {},
   "outputs": [],
   "source": [
    "newdf = []\n",
    "for coin in colarr:\n",
    "    crypt = df[coin]\n",
    "    close = crypt['close'][crypt['up'].first_valid_index():crypt['up'].last_valid_index()]\n",
    "    close = np.array(close)\n",
    "    high = crypt['high'][crypt['up'].first_valid_index():crypt['up'].last_valid_index()]\n",
    "    high = np.array(high)\n",
    "    low = crypt['low'][crypt['up'].first_valid_index():crypt['up'].last_valid_index()]\n",
    "    low = np.array(low)\n",
    "    volume = crypt['volume'][crypt['up'].first_valid_index():crypt['up'].last_valid_index()]\n",
    "    volume = np.array(volume)\n",
    "    \n",
    "    sma10 = talib.SMA(close,timeperiod=10)\n",
    "    sma30 = talib.SMA(close,timeperiod=30)\n",
    "    sma50 = talib.SMA(close,timeperiod=50)\n",
    "\n",
    "    dema10 = talib.DEMA(close, timeperiod=10)\n",
    "    dema30 = talib.DEMA(close, timeperiod=30)\n",
    "    dema50 = talib.DEMA(close, timeperiod=50)\n",
    "\n",
    "    wma10 = talib.WMA(close, timeperiod=10)\n",
    "    wma30 = talib.WMA(close, timeperiod=30)\n",
    "    wma50 = talib.WMA(close, timeperiod=50)\n",
    "\n",
    "    htt = talib.HT_TRENDLINE(close)\n",
    "\n",
    "    sar = talib.SAR(high,low,acceleration=0,maximum=0)\n",
    "\n",
    "    adx = talib.ADX(high,low,close,timeperiod=14)\n",
    "    adxr = talib.ADXR(high,low,close, timeperiod=14)\n",
    "    apo = talib.APO(close, fastperiod=12,slowperiod=26,matype=0)\n",
    "    aro = talib.AROONOSC(high,low,timeperiod=14)\n",
    "\n",
    "    mfi = talib.MFI(high,low,close,volume,timeperiod=14)\n",
    "\n",
    "    roc = talib.ROCP(close,timeperiod=15)\n",
    "\n",
    "    rsi = talib.RSI(close,timeperiod=14)\n",
    "\n",
    "    wilr = talib.WILLR(high,low,close, timeperiod=15)\n",
    "\n",
    "    uo = talib.ULTOSC(high,low,close,timeperiod1=7,timeperiod2=14,timeperiod3=28)\n",
    "\n",
    "    fastk,fastd = talib.STOCHF(high,low,close, fastk_period=5,fastd_period=3,fastd_matype=0)\n",
    "\n",
    "    upper,middle,lower = talib.BBANDS(close, matype=MA_Type.T3)\n",
    "\n",
    "    mom = talib.MOM(close,timeperiod=5)\n",
    "    cci = talib.CCI(high, low, close, timeperiod=20)\n",
    "\n",
    "    obv = talib.OBV(close,volume)\n",
    "\n",
    "    beta = talib.BETA(high,low,timeperiod=10)\n",
    "\n",
    "    var = talib.VAR(close, timeperiod=14,nbdev=1)\n",
    "    \n",
    "    crypt = crypt[crypt['up'].first_valid_index():crypt['up'].last_valid_index()]\n",
    "    \n",
    "    #ltc['wma'] = wma50\n",
    "    #ltc['upper'] = upper\n",
    "    #ltc['middle'] = middle\n",
    "    #ltc['lower'] = lower\n",
    "    crypt['mom'] = mom\n",
    "    crypt['cci'] = cci\n",
    "    crypt['obv'] = obv\n",
    "    crypt['beta'] = beta\n",
    "    crypt['var'] = var\n",
    "    #ltc['htt'] = htt\n",
    "    crypt['sar'] = sar\n",
    "    crypt['adx'] = adx\n",
    "    crypt['adxr'] = adxr\n",
    "    crypt['apo'] = apo\n",
    "    crypt['aro'] = aro\n",
    "    crypt['mfi'] = mfi\n",
    "    crypt['roc'] = roc\n",
    "    crypt['rsi'] =rsi\n",
    "    crypt['wilr'] =wilr\n",
    "    crypt['uo'] = uo\n",
    "    crypt['fastk'] =fastk\n",
    "    crypt['fastd'] = fastd\n",
    "    \n",
    "    crypt = crypt[crypt['adxr'].first_valid_index():crypt['adxr'].last_valid_index()]\n",
    "    newdf.append(crypt)\n",
    "df = pd.concat(newdf,axis=1, keys=colarr,names=['alt'])\n",
    "df.to_pickle('/home/patrick/Documents/Alt Coin Proj/data/newfeat.pkl')"
   ]
  },
  {
   "cell_type": "code",
   "execution_count": null,
   "metadata": {},
   "outputs": [],
   "source": [
    "df"
   ]
  },
  {
   "cell_type": "code",
   "execution_count": null,
   "metadata": {
    "collapsed": true
   },
   "outputs": [],
   "source": []
  },
  {
   "cell_type": "code",
   "execution_count": null,
   "metadata": {
    "collapsed": true
   },
   "outputs": [],
   "source": []
  },
  {
   "cell_type": "code",
   "execution_count": null,
   "metadata": {
    "collapsed": true
   },
   "outputs": [],
   "source": []
  },
  {
   "cell_type": "markdown",
   "metadata": {},
   "source": [
    "## Simple Moving Average"
   ]
  },
  {
   "cell_type": "code",
   "execution_count": null,
   "metadata": {
    "collapsed": true
   },
   "outputs": [],
   "source": [
    "sma10 = talib.SMA(close,timeperiod=10)\n",
    "sma30 = talib.SMA(close,timeperiod=30)\n",
    "sma50 = talib.SMA(close,timeperiod=50)\n",
    "\n",
    "dema10 = talib.DEMA(close, timeperiod=10)\n",
    "dema30 = talib.DEMA(close, timeperiod=30)\n",
    "dema50 = talib.DEMA(close, timeperiod=50)\n",
    "\n",
    "wma10 = talib.WMA(close, timeperiod=10)\n",
    "wma30 = talib.WMA(close, timeperiod=30)\n",
    "wma50 = talib.WMA(close, timeperiod=50)\n",
    "\n",
    "htt = talib.HT_TRENDLINE(close)\n",
    "\n",
    "sar = talib.SAR(high,low,acceleration=0,maximum=0)\n",
    "\n",
    "adx = talib.ADX(high,low,close,timeperiod=14)\n",
    "adxr = talib.ADXR(high,low,close, timeperiod=14)\n",
    "apo = talib.APO(close, fastperiod=12,slowperiod=26,matype=0)\n",
    "aro = talib.AROONOSC(high,low,timeperiod=14)\n",
    "\n",
    "mfi = talib.MFI(high,low,close,volume,timeperiod=14)\n",
    "\n",
    "roc = talib.ROCP(close,timeperiod=15)\n",
    "\n",
    "rsi = talib.RSI(close,timeperiod=14)\n",
    "\n",
    "wilr = talib.WILLR(high,low,close, timeperiod=15)\n",
    "\n",
    "uo = talib.ULTOSC(high,low,close,timeperiod1=7,timeperiod2=14,timeperiod3=28)\n",
    "\n",
    "fastk,fastd = talib.STOCHF(high,low,close, fastk_period=5,fastd_period=3,fastd_matype=0)\n",
    "\n",
    "upper,middle,lower = talib.BBANDS(close, matype=MA_Type.T3)\n",
    "\n",
    "mom = talib.MOM(close,timeperiod=5)\n",
    "cci = talib.CCI(high, low, close, timeperiod=20)\n",
    "\n",
    "obv = talib.OBV(close,volume)\n",
    "\n",
    "beta = talib.BETA(high,low,timeperiod=10)\n",
    "\n",
    "var = talib.VAR(close, timeperiod=14,nbdev=1)"
   ]
  },
  {
   "cell_type": "markdown",
   "metadata": {},
   "source": [
    "## Bollinger Bands\n",
    "### 25 timeperiod "
   ]
  },
  {
   "cell_type": "code",
   "execution_count": null,
   "metadata": {
    "collapsed": true
   },
   "outputs": [],
   "source": [
    "upper,middle,lower = talib.BBANDS(close, matype=MA_Type.T3)"
   ]
  },
  {
   "cell_type": "code",
   "execution_count": null,
   "metadata": {},
   "outputs": [],
   "source": [
    "upper[24]"
   ]
  },
  {
   "cell_type": "markdown",
   "metadata": {},
   "source": [
    "## Momentum of close prices"
   ]
  },
  {
   "cell_type": "code",
   "execution_count": null,
   "metadata": {
    "collapsed": true
   },
   "outputs": [],
   "source": [
    "mom = talib.MOM(close,timeperiod=5)\n",
    "cci = talib.CCI(high, low, close, timeperiod=20)"
   ]
  },
  {
   "cell_type": "code",
   "execution_count": null,
   "metadata": {},
   "outputs": [],
   "source": [
    "mom[5:]"
   ]
  },
  {
   "cell_type": "markdown",
   "metadata": {},
   "source": [
    "## On Balance Volume"
   ]
  },
  {
   "cell_type": "code",
   "execution_count": null,
   "metadata": {
    "collapsed": true
   },
   "outputs": [],
   "source": [
    "obv = talib.OBV(close,volume)"
   ]
  },
  {
   "cell_type": "markdown",
   "metadata": {},
   "source": [
    "## BETA"
   ]
  },
  {
   "cell_type": "code",
   "execution_count": null,
   "metadata": {
    "collapsed": true
   },
   "outputs": [],
   "source": [
    "beta = talib.BETA(high,low,timeperiod=10)"
   ]
  },
  {
   "cell_type": "code",
   "execution_count": null,
   "metadata": {
    "collapsed": true
   },
   "outputs": [],
   "source": [
    "var = talib.VAR(close, timeperiod=14,nbdev=1)"
   ]
  },
  {
   "cell_type": "code",
   "execution_count": null,
   "metadata": {
    "collapsed": true
   },
   "outputs": [],
   "source": []
  },
  {
   "cell_type": "code",
   "execution_count": null,
   "metadata": {
    "collapsed": true
   },
   "outputs": [],
   "source": []
  },
  {
   "cell_type": "code",
   "execution_count": null,
   "metadata": {
    "collapsed": true
   },
   "outputs": [],
   "source": [
    "ltc = df['DOGE'][df['DOGE']['up'].first_valid_index():df['DOGE']['up'].last_valid_index()]"
   ]
  },
  {
   "cell_type": "code",
   "execution_count": null,
   "metadata": {
    "collapsed": true
   },
   "outputs": [],
   "source": [
    "#ltc['wma'] = wma50\n",
    "#ltc['upper'] = upper\n",
    "#ltc['middle'] = middle\n",
    "#ltc['lower'] = lower\n",
    "ltc['mom'] = mom\n",
    "ltc['cci'] = cci\n",
    "ltc['obv'] = obv\n",
    "ltc['beta'] = beta\n",
    "ltc['var'] = var\n",
    "#ltc['htt'] = htt\n",
    "ltc['sar'] = sar\n",
    "ltc['adx'] = adx\n",
    "ltc['adxr'] = adxr\n",
    "ltc['apo'] = apo\n",
    "ltc['aro'] = aro\n",
    "ltc['mfi'] = mfi\n",
    "ltc['roc'] = roc\n",
    "ltc['rsi'] =rsi\n",
    "ltc['wilr'] =wilr\n",
    "ltc['uo'] = uo\n",
    "ltc['fastk'] =fastk\n",
    "ltc['fastd'] = fastd\n",
    "\n"
   ]
  },
  {
   "cell_type": "code",
   "execution_count": null,
   "metadata": {
    "collapsed": true
   },
   "outputs": [],
   "source": [
    "ltc = ltc[ltc['adxr'].first_valid_index():ltc['adxr'].last_valid_index()]"
   ]
  },
  {
   "cell_type": "code",
   "execution_count": null,
   "metadata": {},
   "outputs": [],
   "source": [
    "ltc"
   ]
  },
  {
   "cell_type": "code",
   "execution_count": null,
   "metadata": {
    "collapsed": true
   },
   "outputs": [],
   "source": [
    "ltc.to_pickle('/home/patrick/Documents/Alt Coin Proj/data/doge.pkl')"
   ]
  },
  {
   "cell_type": "code",
   "execution_count": null,
   "metadata": {
    "collapsed": true
   },
   "outputs": [],
   "source": []
  }
 ],
 "metadata": {
  "kernelspec": {
   "display_name": "Python 2",
   "language": "python",
   "name": "python2"
  },
  "language_info": {
   "codemirror_mode": {
    "name": "ipython",
    "version": 2
   },
   "file_extension": ".py",
   "mimetype": "text/x-python",
   "name": "python",
   "nbconvert_exporter": "python",
   "pygments_lexer": "ipython2",
   "version": "2.7.13"
  }
 },
 "nbformat": 4,
 "nbformat_minor": 2
}
